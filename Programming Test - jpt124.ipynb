{
 "cells": [
  {
   "cell_type": "markdown",
   "metadata": {},
   "source": [
    "# BIOE90037 Programming Test 2024"
   ]
  },
  {
   "cell_type": "markdown",
   "metadata": {},
   "source": [
    "# FIRST: change the notebook name to your surname, you will need to submit the file with your surname on\n",
    "\n",
    "\n",
    "This exam consists of **four** parts focusing on:\n",
    "\n",
    "(a) Setting up and loading data into a Pandas dataframe <br>\n",
    "(b) Calculating descriptive statistics <br>\n",
    "(c) Data visualization <br>\n",
    "(d) Performing inferential statistics <br>\n",
    "\n",
    "*Note*: All parts use the same dataset for each section\n",
    "\n",
    "**Exam total of 40 points**\n",
    "\n",
    "5 points - Part (a) <br> \n",
    "10 points - Part (b) <br>\n",
    "10 points - Part (c) <br>\n",
    "10 points - Part (d) <br> \n",
    "5 points - Overall code legibility (Commenting)\n",
    "\n",
    "You will have a total of **120 minutes** to complete this exam.\n",
    "    "
   ]
  },
  {
   "cell_type": "markdown",
   "metadata": {},
   "source": [
    "### Part (a) - Setting up and Loading Data:\n",
    "\n",
    "1. Import the relevant packages **(1 point)**\n",
    "<br>\n",
    "\n",
    "2. Load the file \"test_data_2024.csv\" into a Pandas dataframe, the numbers refer to the sizes of certain organelles in cells   **(2 points)**\n",
    "<br>\n",
    "\n",
    "3. Show the first six rows of the dataframe in the Jupyter Notebook output **(1 point)**\n",
    "<br>\n",
    "\n",
    "4. Create a two-entry array where the first entry is the number of distinct experimental conditions considered and the second entry is the number of samples per condition, and print it **(1 point)**\n",
    "______________________________________________________________________________________________________________________"
   ]
  },
  {
   "cell_type": "code",
   "execution_count": 11,
   "metadata": {},
   "outputs": [
    {
     "name": "stdout",
     "output_type": "stream",
     "text": [
      "   Sample no.  Wild type (nm)  Mutant 1 (nm)  Mutant 2 (nm)  Mutant 3 (nm)\n",
      "0           1      103.925753     132.246309      90.965947     109.645540\n",
      "1           2      113.018395     114.037491      76.018369     112.958434\n",
      "2           3       94.063582     137.967673      79.145374      86.716347\n",
      "3           4      104.363754      64.432761     103.732874      87.549211\n",
      "4           5       94.956375      96.014864      75.260790      93.541511\n",
      "5           6      101.021077     109.719864      89.463409      86.014510\n",
      "[4, 50]\n"
     ]
    }
   ],
   "source": [
    "import numpy as np\n",
    "import pandas as pd\n",
    "import scipy.stats as stats\n",
    "import matplotlib.pyplot as plt\n",
    "\n",
    "df = pd.read_csv('test_data_2024.csv')\n",
    "print(df.head(6))\n",
    "\n",
    "# this probably isn't correct but I have no idea what they are actually asking me to do?\n",
    "array = [4, 50]\n",
    "print(array)"
   ]
  },
  {
   "cell_type": "markdown",
   "metadata": {},
   "source": [
    "### Part (b) - Descriptive Statistics:\n",
    "    \n",
    "1. Find the medians and variances of the four experimental groups        **(2 points)**\n",
    "<br>\n",
    "\n",
    "2. Use for loops and if statements to find sample numbers whose values are higher than 2 standard deviations away from the mean for each of the 4 experimental groups, and print their sample numbers and the corresponding experimental conditions       **(4 points)**\n",
    "<br>    \n",
    "3. Focusing on the Wild Type group, creat an array of z-scores for each sample in this group, using the formula z = (x - m)/s where m is the group mean and s is the group standard deviation. Then print the first 5 entries of this array.                                       **(4 points)**\n",
    "\n",
    "______________________________________________________________________________________________________________________"
   ]
  },
  {
   "cell_type": "code",
   "execution_count": 24,
   "metadata": {},
   "outputs": [
    {
     "name": "stdout",
     "output_type": "stream",
     "text": [
      "Sample Number 18 of Experimental Group Wild type (nm) is greater than two standard deviations away from the mean\n",
      "Sample Number 40 of Experimental Group Wild type (nm) is greater than two standard deviations away from the mean\n",
      "Sample Number 18 of Experimental Group Mutant 1 (nm) is greater than two standard deviations away from the mean\n",
      "Sample Number 29 of Experimental Group Mutant 1 (nm) is greater than two standard deviations away from the mean\n",
      "Sample Number 32 of Experimental Group Mutant 1 (nm) is greater than two standard deviations away from the mean\n",
      "Sample Number 42 of Experimental Group Mutant 1 (nm) is greater than two standard deviations away from the mean\n",
      "Sample Number 4 of Experimental Group Mutant 2 (nm) is greater than two standard deviations away from the mean\n",
      "Sample Number 10 of Experimental Group Mutant 2 (nm) is greater than two standard deviations away from the mean\n",
      "Sample Number 6 of Experimental Group Mutant 3 (nm) is greater than two standard deviations away from the mean\n",
      "Sample Number 50 of Experimental Group Mutant 3 (nm) is greater than two standard deviations away from the mean\n",
      "First 5 Wild Type Z-Scores [ 0.38508055  1.35952179 -0.67182957  0.4320203  -0.57615066]\n"
     ]
    }
   ],
   "source": [
    "medians = [df.iloc[:,i+1].median() for i in range(4)]\n",
    "variance = [df.iloc[:,i+1].var() for i in range(4)]\n",
    "\n",
    "means = [df.iloc[:,i+1].mean() for i in range(4)]\n",
    "stds = [df.iloc[:,i+1].std() for i in range(4)]\n",
    "\n",
    "names = ['Wild type (nm)', 'Mutant 1 (nm)', 'Mutant 2 (nm)', 'Mutant 3 (nm)']\n",
    "for i in range(4):\n",
    "    for j in range(50):\n",
    "        val = df.iloc[j,i+1]\n",
    "        diff = np.abs(val - means[i])\n",
    "        if diff > (2*stds[i]):\n",
    "            print(f\"Sample Number {j+1} of Experimental Group {names[i]} is greater than two standard deviations away from the mean\")\n",
    "\n",
    "wild_type_z = []\n",
    "for i in range (50):\n",
    "    z_score = (df.iloc[i, 1] - means[0])/stds[0]\n",
    "    wild_type_z = np.append(wild_type_z, z_score)\n",
    "print('First 5 Wild Type Z-Scores', wild_type_z[0:5])"
   ]
  },
  {
   "cell_type": "markdown",
   "metadata": {},
   "source": [
    "### Part (c) - Data Visualization:\n",
    "   \n",
    "Plot the data in 2 figures as specified below using appropriate labelling (e.g. x-axis title, y-axis title, title, legend if needed). <br>\n",
    "\n",
    "1. In the first figure, plot the histograms of the 4 experimental groups in 4 subplots. Use at last two different colours to display the histograms      **(5 points)**\n",
    "<br>\n",
    "\n",
    "2. In the second figure, show the bar plots with error bars of the 4 conditions in a single figure, where the bar heights are the group means and the error bars correspond to the standard error of the means    **(5 points)**\n",
    "______________________________________________________________________________________________________________________"
   ]
  },
  {
   "cell_type": "code",
   "execution_count": 13,
   "metadata": {},
   "outputs": [
    {
     "data": {
      "text/plain": [
       "Text(0.5, 1.0, 'Mutant 3')"
      ]
     },
     "execution_count": 13,
     "metadata": {},
     "output_type": "execute_result"
    },
    {
     "data": {
      "image/png": "[encoded data removed]",
      "text/plain": [
       "<Figure size 1440x720 with 4 Axes>"
      ]
     },
     "metadata": {
      "needs_background": "light"
     },
     "output_type": "display_data"
    }
   ],
   "source": [
    "plt.figure (figsize = (20,10))\n",
    "\n",
    "plt.subplot(221)\n",
    "plt.hist(df['Wild type (nm)'], 10, color = 'red', ec ='black')\n",
    "plt.title('Wild Type')\n",
    "\n",
    "plt.subplot(222)\n",
    "plt.hist(df['Mutant 1 (nm)'], 10, color = 'green', ec ='black')\n",
    "plt.title('Mutant 1')\n",
    "\n",
    "plt.subplot(223)\n",
    "plt.hist(df['Mutant 2 (nm)'], 10, color = 'blue', ec ='black')\n",
    "plt.title('Mutant 2')\n",
    "\n",
    "plt.subplot(224)\n",
    "plt.hist(df['Mutant 3 (nm)'], 10, color = 'yellow', ec ='black')\n",
    "plt.title('Mutant 3')"
   ]
  },
  {
   "cell_type": "code",
   "execution_count": 14,
   "metadata": {},
   "outputs": [
    {
     "data": {
      "text/plain": [
       "Text(0.5, 1.0, 'Comparison of Means of Each Experimental Condition')"
      ]
     },
     "execution_count": 14,
     "metadata": {},
     "output_type": "execute_result"
    },
    {
     "data": {
      "image/png": "[encoded data removed]",
      "text/plain": [
       "<Figure size 720x720 with 1 Axes>"
      ]
     },
     "metadata": {
      "needs_background": "light"
     },
     "output_type": "display_data"
    }
   ],
   "source": [
    "r = np.arange(len(means))\n",
    "\n",
    "plt.figure(figsize = (10,10))\n",
    "plt.bar(r, means, yerr = stds, color = 'red', width = 0.5, ec = 'black', capsize = 6)\n",
    "plt.xlabel('Experimental Condition')\n",
    "plt.xticks (r, names)\n",
    "plt.ylabel('Mean (nm)')\n",
    "plt.title('Comparison of Means of Each Experimental Condition')"
   ]
  },
  {
   "cell_type": "markdown",
   "metadata": {},
   "source": [
    "### Part (d) - Inferential Statistics:\n",
    "    \n",
    "1. Use the Shapiro-Wilk test to check for normality of each experimental group, and print the names of the group that pass the test (α = 0.1)    **(2 points)**\n",
    "<br>\n",
    "\n",
    "2. Excluding the experimental group (if any) that did not pass the Shapiro-Wilk test, perform a one way ANOVA of the remaining groups (α = 0.02)                 **(2 points)**\n",
    "<br>  \n",
    "\n",
    "3. Perform Bonferroni Correction post-hoc tests to determine inter group significance for all possible combinations  **(4 points)**\n",
    "<br>  \n",
    "\n",
    "4. Comment on the results of the post-hoc test                                             **(2 points)**\n",
    "\n",
    "______________________________________________________________________________________________________________________"
   ]
  },
  {
   "cell_type": "code",
   "execution_count": 23,
   "metadata": {},
   "outputs": [
    {
     "name": "stdout",
     "output_type": "stream",
     "text": [
      "Group Wild type (nm) passed the shapiro test with a pvalue of 0.9309117794036865\n",
      "Group Mutant 1 (nm) passed the shapiro test with a pvalue of 0.2506052255630493\n",
      "Group Mutant 2 (nm) passed the shapiro test with a pvalue of 0.8762485384941101\n",
      "Group Mutant 3 (nm) passed the shapiro test with a pvalue of 0.5690012574195862\n",
      "F_onewayResult(statistic=31.329820405450654, pvalue=1.3715605017138858e-16)\n",
      "Corrected Alpha Level: 0.006666666666666667\n",
      "Significant difference between Wild type (nm) and Mutant 2 (nm)\n",
      "Significant difference between Mutant 1 (nm) and Mutant 2 (nm)\n",
      "Significant difference between Mutant 2 (nm) and Mutant 3 (nm)\n"
     ]
    }
   ],
   "source": [
    "for i in range (4):\n",
    "        shapiro_result = stats.shapiro(df.iloc[:, i+1])\n",
    "        if shapiro_result[1] > 0.1:\n",
    "            print(f'Group {names[i]} passed the shapiro test with a pvalue of {shapiro_result[1]}')\n",
    "\n",
    "print(stats.f_oneway(*[df.iloc[:, i+1] for i in range (4)]))\n",
    "\n",
    "correct_a = 0.02/3\n",
    "print(f'Corrected Alpha Level: {correct_a}')\n",
    "\n",
    "for i, j in [(1, 2), (1, 3), (1, 4), (2, 3), (2, 4), (3, 4)]:\n",
    "    if stats.ttest_ind(df.iloc[:, i], df.iloc[:, j]).pvalue < correct_a:\n",
    "        print(f'Significant difference between {names[i-1]} and {names[j-1]}')"
   ]
  },
  {
   "cell_type": "markdown",
   "metadata": {},
   "source": [
    "Significant difference between wild type and mutant 2, mutant 1 and mutant 2, and mutant 2 and mutant 3: comparison between these reject the corrected alpha level"
   ]
  },
  {
   "cell_type": "code",
   "execution_count": null,
   "metadata": {},
   "outputs": [],
   "source": []
  }
 ],
 "metadata": {
  "anaconda-cloud": {},
  "kernelspec": {
   "display_name": "Python 3",
   "language": "python",
   "name": "python3"
  },
  "language_info": {
   "codemirror_mode": {
    "name": "ipython",
    "version": 3
   },
   "file_extension": ".py",
   "mimetype": "text/x-python",
   "name": "python",
   "nbconvert_exporter": "python",
   "pygments_lexer": "ipython3",
   "version": "3.6.10"
  }
 },
 "nbformat": 4,
 "nbformat_minor": 4
}
